{
 "cells": [
  {
   "cell_type": "code",
   "execution_count": 1,
   "id": "5cfed2fe",
   "metadata": {
    "ExecuteTime": {
    }
   },
   "outputs": [
    {
     "name": "stdout",
     "output_type": "stream",
     "text": [
      "이름을 입력하세요: 김나영\n",
      "학번을 입력하세요: 2020110502\n",
      "학과를 입력하세요: 통계학과\n",
      "학년을 입력하세요: 3\n",
      "학교를 입력하세요: 동국대학교\n",
      "\n",
      "<출력> \n",
      "이름:  김나영 \n",
      "학번:  2020110502 \n",
      "학과:  통계학과 \n",
      "학년:  3\n"
      "학교:  동국대학교\n"
     ]
    }
   ],
   "source": [
    "name = input(\"이름을 입력하세요: \")\n",
    "number = input(\"학번을 입력하세요: \")\n",
    "major = input(\"학과를 입력하세요: \")\n",
    "grade = input(\"학년을 입력하세요: \")\n",
    "school = input(\"학교를 입력하세요: \")\n",
    "\n",
    "print(\"\\n<출력>\",\n",
    "     \"\\n이름: \", name,\n",
    "     \"\\n학번: \", number,\n",
    "     \"\\n학과: \", major,\n",
    "     \"\\n학년: \", grade)"
    "     \"\\n학교: \", school)"
   ]
  },
  {
   "cell_type": "code",
   "execution_count": null,
   "id": "1d0573c9",
   "metadata": {},
   "outputs": [],
   "source": []
  }
 ],
 "metadata": {
  "kernelspec": {
   "display_name": "Python 3 (ipykernel)",
   "language": "python",
   "name": "python3"
  },
  "language_info": {
   "codemirror_mode": {
    "name": "ipython",
    "version": 3
   },
   "file_extension": ".py",
   "mimetype": "text/x-python",
   "name": "python",
   "nbconvert_exporter": "python",
   "pygments_lexer": "ipython3",
   "version": "3.9.13"
  },
  "toc": {
   "base_numbering": 1,
   "nav_menu": {},
   "number_sections": true,
   "sideBar": true,
   "skip_h1_title": false,
   "title_cell": "Table of Contents",
   "title_sidebar": "Contents",
   "toc_cell": false,
   "toc_position": {},
   "toc_section_display": true,
   "toc_window_display": false
  }
 },
 "nbformat": 4,
 "nbformat_minor": 5
}
